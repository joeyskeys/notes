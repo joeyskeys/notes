{
 "cells": [
  {
   "cell_type": "markdown",
   "id": "03402826-cd94-480c-84f3-a3651a001467",
   "metadata": {},
   "source": [
    "## MIS\n",
    "\n",
    "### Basic Approach\n",
    "\n",
    " 1. Use multiple sampling techniques to do the sampling, use the weighted sum as the result.\n",
    " 2. For complex integrand, you don't know which sampling technique is the best, MIS will perform much better than a bad match of sampling technique.\n",
    " 3. Restriction 1: weight sum up to 1.\n",
    " 4. Restriction 2: Weight equal to 0 where possibility is 0.\n",
    " \n",
    "### Strategies of weighting function\n",
    "\n",
    " 1. Balance heuristic:\n",
    " "
   ]
  },
  {
   "cell_type": "code",
   "execution_count": 3,
   "id": "599cfbfe-6e0b-4e7a-85f6-d39929e4d655",
   "metadata": {},
   "outputs": [
    {
     "data": {
      "text/latex": [
       "$\\displaystyle 1$"
      ],
      "text/plain": [
       "1"
      ]
     },
     "execution_count": 3,
     "metadata": {},
     "output_type": "execute_result"
    }
   ],
   "source": [
    "import sympy as sp\n",
    "import numpy as np\n",
    "\n",
    "x = sp.symbols('x')\n",
    "sp.limit(sp.sin(x) / x, x, 0)"
   ]
  }
 ],
 "metadata": {
  "kernelspec": {
   "display_name": "Python 3",
   "language": "python",
   "name": "python3"
  },
  "language_info": {
   "codemirror_mode": {
    "name": "ipython",
    "version": 3
   },
   "file_extension": ".py",
   "mimetype": "text/x-python",
   "name": "python",
   "nbconvert_exporter": "python",
   "pygments_lexer": "ipython3",
   "version": "3.8.8"
  }
 },
 "nbformat": 4,
 "nbformat_minor": 5
}
